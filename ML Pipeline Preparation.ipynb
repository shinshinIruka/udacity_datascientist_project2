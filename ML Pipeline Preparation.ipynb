{
 "cells": [
  {
   "cell_type": "markdown",
   "metadata": {},
   "source": [
    "# ML Pipeline Preparation\n",
    "Follow the instructions below to help you create your ML pipeline.\n",
    "### 1. Import libraries and load data from database.\n",
    "- Import Python libraries\n",
    "- Load dataset from database with [`read_sql_table`](https://pandas.pydata.org/pandas-docs/stable/generated/pandas.read_sql_table.html)\n",
    "- Define feature and target variables X and Y"
   ]
  },
  {
   "cell_type": "code",
   "execution_count": 1,
   "metadata": {},
   "outputs": [
    {
     "name": "stdout",
     "output_type": "stream",
     "text": [
      "[nltk_data] Downloading package punkt to /root/nltk_data...\n",
      "[nltk_data]   Package punkt is already up-to-date!\n",
      "[nltk_data] Downloading package stopwords to /root/nltk_data...\n",
      "[nltk_data]   Package stopwords is already up-to-date!\n",
      "[nltk_data] Downloading package wordnet to /root/nltk_data...\n",
      "[nltk_data]   Package wordnet is already up-to-date!\n"
     ]
    },
    {
     "data": {
      "text/plain": [
       "True"
      ]
     },
     "execution_count": 1,
     "metadata": {},
     "output_type": "execute_result"
    }
   ],
   "source": [
    "# import libraries\n",
    "import pickle\n",
    "import re\n",
    "import pandas as pd # checked\n",
    "from sqlalchemy import create_engine\n",
    "from sklearn.model_selection import train_test_split\n",
    "from sklearn.pipeline import Pipeline\n",
    "from sklearn.feature_extraction.text import CountVectorizer, TfidfTransformer #check\n",
    "from sklearn.metrics import f1_score, precision_score, recall_score\n",
    "from sklearn.metrics import classification_report # checked\n",
    "from sklearn.multioutput import MultiOutputClassifier #checked\n",
    "from sklearn.ensemble import RandomForestClassifier # Checked\n",
    "from sklearn.model_selection import GridSearchCV #checked\n",
    "import nltk # checked\n",
    "from nltk.corpus import stopwords # checked\n",
    "from nltk.tokenize import word_tokenize # checked\n",
    "from nltk.stem import WordNetLemmatizer\n",
    "\n",
    "nltk.download(['punkt', 'stopwords', 'wordnet'])"
   ]
  },
  {
   "cell_type": "code",
   "execution_count": 2,
   "metadata": {},
   "outputs": [],
   "source": [
    "# load data from database\n",
    "engine = create_engine('sqlite:///DisasterData.db')\n",
    "df = pd.read_sql_table('DisasterData', engine)\n",
    "X = df['message']\n",
    "Y = df.drop(['id', 'message', 'original', 'genre'], axis=1)"
   ]
  },
  {
   "cell_type": "code",
   "execution_count": 3,
   "metadata": {},
   "outputs": [
    {
     "name": "stdout",
     "output_type": "stream",
     "text": [
      "0    Weather update - a cold front from Cuba that c...\n",
      "1              Is the Hurricane over or is it not over\n",
      "2                      Looking for someone but no name\n",
      "3    UN reports Leogane 80-90 destroyed. Only Hospi...\n",
      "4    says: west side of Haiti, rest of the country ...\n",
      "Name: message, dtype: object\n",
      "   related  request  offer  aid_related  medical_help  medical_products  \\\n",
      "0        1        0      0            0             0                 0   \n",
      "1        1        0      0            1             0                 0   \n",
      "2        1        0      0            0             0                 0   \n",
      "3        1        1      0            1             0                 1   \n",
      "4        1        0      0            0             0                 0   \n",
      "\n",
      "   search_and_rescue  security  military  child_alone      ...        \\\n",
      "0                  0         0         0            0      ...         \n",
      "1                  0         0         0            0      ...         \n",
      "2                  0         0         0            0      ...         \n",
      "3                  0         0         0            0      ...         \n",
      "4                  0         0         0            0      ...         \n",
      "\n",
      "   aid_centers  other_infrastructure  weather_related  floods  storm  fire  \\\n",
      "0            0                     0                0       0      0     0   \n",
      "1            0                     0                1       0      1     0   \n",
      "2            0                     0                0       0      0     0   \n",
      "3            0                     0                0       0      0     0   \n",
      "4            0                     0                0       0      0     0   \n",
      "\n",
      "   earthquake  cold  other_weather  direct_report  \n",
      "0           0     0              0              0  \n",
      "1           0     0              0              0  \n",
      "2           0     0              0              0  \n",
      "3           0     0              0              0  \n",
      "4           0     0              0              0  \n",
      "\n",
      "[5 rows x 36 columns]\n"
     ]
    }
   ],
   "source": [
    "print(X.head())\n",
    "print(Y.head())"
   ]
  },
  {
   "cell_type": "markdown",
   "metadata": {},
   "source": [
    "### 2. Write a tokenization function to process your text data"
   ]
  },
  {
   "cell_type": "code",
   "execution_count": 4,
   "metadata": {},
   "outputs": [],
   "source": [
    "\n",
    "def tokenize(text):    \n",
    "    # URL regex pattern\n",
    "    url_regex = r'http[s]?://(?:[a-zA-Z]|[0-9]|[$-_@.&+]|[!*\\(\\),]|(?:%[0-9a-fA-F][0-9a-fA-F]))+'\n",
    "    # Replace URLs with a space\n",
    "    text = re.sub(url_regex, 'urlplaceholder', text)\n",
    "    \n",
    "\n",
    "    # Normalize by converting to lowercase and removing punctuation\n",
    "    text = re.sub(r\"[^a-zA-Z0-9]\", \" \", text.lower())\n",
    "    \n",
    "    \n",
    "    # Initialize the lemmatizer\n",
    "    lemmatizer = WordNetLemmatizer()\n",
    "    \n",
    "     #Split text into words using NLTK, Tokenize the text\n",
    "    tokens = word_tokenize(text)\n",
    "#     print(tokens)\n",
    "    \n",
    "    # Remove stopwords\n",
    "    tokens = [tk for tk in tokens if tk not in stopwords.words(\"english\")]\n",
    "    \n",
    "    # Lemmatize each token\n",
    "    tokens = [lemmatizer.lemmatize(t) for t in tokens]\n",
    "\n",
    "    return tokens"
   ]
  },
  {
   "cell_type": "code",
   "execution_count": 5,
   "metadata": {},
   "outputs": [
    {
     "name": "stdout",
     "output_type": "stream",
     "text": [
      "['check', 'link', 'urlplaceholder', 'another', 'urlplaceholder', 'amazing']\n"
     ]
    }
   ],
   "source": [
    "text = \"Check out this link: https://example.com and another http://example2.com! It's amazing.\"\n",
    "\n",
    "print(tokenize(text))"
   ]
  },
  {
   "cell_type": "markdown",
   "metadata": {},
   "source": [
    "### 3. Build a machine learning pipeline\n",
    "This machine pipeline should take in the `message` column as input and output classification results on the other 36 categories in the dataset. You may find the [MultiOutputClassifier](http://scikit-learn.org/stable/modules/generated/sklearn.multioutput.MultiOutputClassifier.html) helpful for predicting multiple target variables."
   ]
  },
  {
   "cell_type": "code",
   "execution_count": 6,
   "metadata": {},
   "outputs": [],
   "source": [
    "pipeline = Pipeline([\n",
    "    ('vect', CountVectorizer(tokenizer=tokenize)),\n",
    "    ('tfidf', TfidfTransformer()),\n",
    "    ('clf', MultiOutputClassifier(RandomForestClassifier()))\n",
    "])"
   ]
  },
  {
   "cell_type": "markdown",
   "metadata": {},
   "source": [
    "### 4. Train pipeline\n",
    "- Split data into train and test sets\n",
    "- Train pipeline"
   ]
  },
  {
   "cell_type": "code",
   "execution_count": 7,
   "metadata": {},
   "outputs": [
    {
     "data": {
      "text/plain": [
       "Pipeline(memory=None,\n",
       "     steps=[('vect', CountVectorizer(analyzer='word', binary=False, decode_error='strict',\n",
       "        dtype=<class 'numpy.int64'>, encoding='utf-8', input='content',\n",
       "        lowercase=True, max_df=1.0, max_features=None, min_df=1,\n",
       "        ngram_range=(1, 1), preprocessor=None, stop_words=None,\n",
       "        strip...oob_score=False, random_state=None, verbose=0,\n",
       "            warm_start=False),\n",
       "           n_jobs=1))])"
      ]
     },
     "execution_count": 7,
     "metadata": {},
     "output_type": "execute_result"
    }
   ],
   "source": [
    "# Split data into train and test sets\n",
    "X_train, X_test, Y_train, Y_test = train_test_split(X, Y, test_size=0.2, random_state=8)\n",
    "\n",
    "# Train pipeline\n",
    "pipeline.fit(X_train, Y_train)"
   ]
  },
  {
   "cell_type": "markdown",
   "metadata": {},
   "source": [
    "### 5. Test your model\n",
    "Report the f1 score, precision and recall for each output category of the dataset. You can do this by iterating through the columns and calling sklearn's `classification_report` on each."
   ]
  },
  {
   "cell_type": "code",
   "execution_count": 8,
   "metadata": {},
   "outputs": [
    {
     "name": "stdout",
     "output_type": "stream",
     "text": [
      "Category: related\n",
      "             precision    recall  f1-score   support\n",
      "\n",
      "          0       0.66      0.49      0.56      1251\n",
      "          1       0.85      0.92      0.88      3955\n",
      "          2       0.28      0.29      0.28        38\n",
      "\n",
      "avg / total       0.80      0.81      0.80      5244\n",
      "\n",
      "Category: request\n",
      "             precision    recall  f1-score   support\n",
      "\n",
      "          0       0.90      0.97      0.93      4364\n",
      "          1       0.77      0.43      0.55       880\n",
      "\n",
      "avg / total       0.87      0.88      0.87      5244\n",
      "\n",
      "Category: offer\n",
      "             precision    recall  f1-score   support\n",
      "\n",
      "          0       1.00      1.00      1.00      5224\n",
      "          1       0.00      0.00      0.00        20\n",
      "\n",
      "avg / total       0.99      1.00      0.99      5244\n",
      "\n",
      "Category: aid_related\n",
      "             precision    recall  f1-score   support\n",
      "\n",
      "          0       0.74      0.86      0.79      3060\n",
      "          1       0.74      0.58      0.65      2184\n",
      "\n",
      "avg / total       0.74      0.74      0.74      5244\n",
      "\n",
      "Category: medical_help\n",
      "             precision    recall  f1-score   support\n",
      "\n",
      "          0       0.93      0.99      0.96      4818\n",
      "          1       0.59      0.12      0.20       426\n",
      "\n",
      "avg / total       0.90      0.92      0.90      5244\n",
      "\n",
      "Category: medical_products\n",
      "             precision    recall  f1-score   support\n",
      "\n",
      "          0       0.96      1.00      0.98      4987\n",
      "          1       0.68      0.12      0.20       257\n",
      "\n",
      "avg / total       0.94      0.95      0.94      5244\n",
      "\n",
      "Category: search_and_rescue\n",
      "             precision    recall  f1-score   support\n",
      "\n",
      "          0       0.97      1.00      0.99      5094\n",
      "          1       0.67      0.03      0.05       150\n",
      "\n",
      "avg / total       0.96      0.97      0.96      5244\n",
      "\n",
      "Category: security\n",
      "             precision    recall  f1-score   support\n",
      "\n",
      "          0       0.99      1.00      0.99      5169\n",
      "          1       0.00      0.00      0.00        75\n",
      "\n",
      "avg / total       0.97      0.98      0.98      5244\n",
      "\n",
      "Category: military\n",
      "             precision    recall  f1-score   support\n",
      "\n",
      "          0       0.97      1.00      0.98      5070\n",
      "          1       0.56      0.09      0.15       174\n",
      "\n",
      "avg / total       0.96      0.97      0.96      5244\n",
      "\n",
      "Category: child_alone\n",
      "             precision    recall  f1-score   support\n",
      "\n",
      "          0       1.00      1.00      1.00      5244\n",
      "\n",
      "avg / total       1.00      1.00      1.00      5244\n",
      "\n",
      "Category: water\n",
      "             precision    recall  f1-score   support\n",
      "\n",
      "          0       0.95      1.00      0.97      4901\n",
      "          1       0.91      0.26      0.40       343\n",
      "\n",
      "avg / total       0.95      0.95      0.94      5244\n",
      "\n",
      "Category: food\n",
      "             precision    recall  f1-score   support\n",
      "\n",
      "          0       0.94      0.98      0.96      4636\n",
      "          1       0.81      0.49      0.61       608\n",
      "\n",
      "avg / total       0.92      0.93      0.92      5244\n",
      "\n",
      "Category: shelter\n",
      "             precision    recall  f1-score   support\n",
      "\n",
      "          0       0.94      0.99      0.96      4757\n",
      "          1       0.81      0.38      0.52       487\n",
      "\n",
      "avg / total       0.93      0.93      0.92      5244\n",
      "\n",
      "Category: clothing\n",
      "             precision    recall  f1-score   support\n",
      "\n",
      "          0       0.99      1.00      0.99      5168\n",
      "          1       0.62      0.13      0.22        76\n",
      "\n",
      "avg / total       0.98      0.99      0.98      5244\n",
      "\n",
      "Category: money\n",
      "             precision    recall  f1-score   support\n",
      "\n",
      "          0       0.98      1.00      0.99      5131\n",
      "          1       0.50      0.03      0.05       113\n",
      "\n",
      "avg / total       0.97      0.98      0.97      5244\n",
      "\n",
      "Category: missing_people\n",
      "             precision    recall  f1-score   support\n",
      "\n",
      "          0       0.99      1.00      0.99      5186\n",
      "          1       0.50      0.02      0.03        58\n",
      "\n",
      "avg / total       0.98      0.99      0.98      5244\n",
      "\n",
      "Category: refugees\n",
      "             precision    recall  f1-score   support\n",
      "\n",
      "          0       0.97      1.00      0.98      5063\n",
      "          1       0.73      0.09      0.16       181\n",
      "\n",
      "avg / total       0.96      0.97      0.95      5244\n",
      "\n",
      "Category: death\n",
      "             precision    recall  f1-score   support\n",
      "\n",
      "          0       0.96      1.00      0.98      5001\n",
      "          1       0.76      0.15      0.25       243\n",
      "\n",
      "avg / total       0.95      0.96      0.95      5244\n",
      "\n",
      "Category: other_aid\n",
      "             precision    recall  f1-score   support\n",
      "\n",
      "          0       0.87      0.99      0.92      4511\n",
      "          1       0.49      0.05      0.09       733\n",
      "\n",
      "avg / total       0.81      0.86      0.81      5244\n",
      "\n",
      "Category: infrastructure_related\n",
      "             precision    recall  f1-score   support\n",
      "\n",
      "          0       0.94      1.00      0.97      4909\n",
      "          1       0.17      0.00      0.01       335\n",
      "\n",
      "avg / total       0.89      0.94      0.91      5244\n",
      "\n",
      "Category: transport\n",
      "             precision    recall  f1-score   support\n",
      "\n",
      "          0       0.96      1.00      0.98      4993\n",
      "          1       0.66      0.11      0.18       251\n",
      "\n",
      "avg / total       0.94      0.95      0.94      5244\n",
      "\n",
      "Category: buildings\n",
      "             precision    recall  f1-score   support\n",
      "\n",
      "          0       0.96      1.00      0.98      4992\n",
      "          1       0.67      0.17      0.28       252\n",
      "\n",
      "avg / total       0.95      0.96      0.94      5244\n",
      "\n",
      "Category: electricity\n",
      "             precision    recall  f1-score   support\n",
      "\n",
      "          0       0.98      1.00      0.99      5135\n",
      "          1       0.83      0.05      0.09       109\n",
      "\n",
      "avg / total       0.98      0.98      0.97      5244\n",
      "\n",
      "Category: tools\n",
      "             precision    recall  f1-score   support\n",
      "\n",
      "          0       0.99      1.00      1.00      5201\n",
      "          1       0.00      0.00      0.00        43\n",
      "\n",
      "avg / total       0.98      0.99      0.99      5244\n",
      "\n",
      "Category: hospitals\n",
      "             precision    recall  f1-score   support\n",
      "\n",
      "          0       0.99      1.00      0.99      5188\n",
      "          1       0.00      0.00      0.00        56\n",
      "\n",
      "avg / total       0.98      0.99      0.98      5244\n",
      "\n",
      "Category: shops\n",
      "             precision    recall  f1-score   support\n",
      "\n",
      "          0       1.00      1.00      1.00      5220\n",
      "          1       0.00      0.00      0.00        24\n",
      "\n",
      "avg / total       0.99      1.00      0.99      5244\n",
      "\n",
      "Category: aid_centers\n",
      "             precision    recall  f1-score   support\n",
      "\n",
      "          0       0.99      1.00      0.99      5183\n",
      "          1       0.00      0.00      0.00        61\n",
      "\n",
      "avg / total       0.98      0.99      0.98      5244\n",
      "\n",
      "Category: other_infrastructure\n",
      "             precision    recall  f1-score   support\n",
      "\n",
      "          0       0.96      1.00      0.98      5022\n",
      "          1       0.25      0.00      0.01       222\n",
      "\n",
      "avg / total       0.93      0.96      0.94      5244\n",
      "\n",
      "Category: weather_related\n",
      "             precision    recall  f1-score   support\n",
      "\n",
      "          0       0.87      0.96      0.91      3786\n",
      "          1       0.84      0.62      0.71      1458\n",
      "\n",
      "avg / total       0.86      0.86      0.85      5244\n",
      "\n",
      "Category: floods\n",
      "             precision    recall  f1-score   support\n",
      "\n",
      "          0       0.95      1.00      0.97      4809\n",
      "          1       0.90      0.44      0.59       435\n",
      "\n",
      "avg / total       0.95      0.95      0.94      5244\n",
      "\n",
      "Category: storm\n",
      "             precision    recall  f1-score   support\n",
      "\n",
      "          0       0.95      0.98      0.97      4773\n",
      "          1       0.73      0.44      0.55       471\n",
      "\n",
      "avg / total       0.93      0.94      0.93      5244\n",
      "\n",
      "Category: fire\n",
      "             precision    recall  f1-score   support\n",
      "\n",
      "          0       0.99      1.00      0.99      5184\n",
      "          1       0.00      0.00      0.00        60\n",
      "\n",
      "avg / total       0.98      0.99      0.98      5244\n",
      "\n",
      "Category: earthquake\n",
      "             precision    recall  f1-score   support\n",
      "\n",
      "          0       0.97      0.99      0.98      4765\n",
      "          1       0.88      0.70      0.78       479\n",
      "\n",
      "avg / total       0.96      0.96      0.96      5244\n",
      "\n",
      "Category: cold\n",
      "             precision    recall  f1-score   support\n",
      "\n",
      "          0       0.98      1.00      0.99      5140\n",
      "          1       0.68      0.12      0.21       104\n",
      "\n",
      "avg / total       0.98      0.98      0.98      5244\n",
      "\n",
      "Category: other_weather\n",
      "             precision    recall  f1-score   support\n",
      "\n",
      "          0       0.95      1.00      0.97      4965\n",
      "          1       0.43      0.04      0.07       279\n",
      "\n",
      "avg / total       0.92      0.95      0.92      5244\n",
      "\n",
      "Category: direct_report\n",
      "             precision    recall  f1-score   support\n",
      "\n",
      "          0       0.85      0.97      0.91      4225\n",
      "          1       0.75      0.31      0.44      1019\n",
      "\n",
      "avg / total       0.83      0.85      0.82      5244\n",
      "\n"
     ]
    },
    {
     "name": "stderr",
     "output_type": "stream",
     "text": [
      "/opt/conda/lib/python3.6/site-packages/sklearn/metrics/classification.py:1135: UndefinedMetricWarning: Precision and F-score are ill-defined and being set to 0.0 in labels with no predicted samples.\n",
      "  'precision', 'predicted', average, warn_for)\n"
     ]
    }
   ],
   "source": [
    "# Test model\n",
    "Y_pred = pipeline.predict(X_test)\n",
    "\n",
    "# Print classification report for each category\n",
    "for i, column in enumerate(Y_test.columns):\n",
    "    print(f\"Category: {column}\")\n",
    "    print(classification_report(Y_test[column], Y_pred[:, i]))"
   ]
  },
  {
   "cell_type": "markdown",
   "metadata": {},
   "source": [
    "### 6. Improve your model\n",
    "Use grid search to find better parameters. "
   ]
  },
  {
   "cell_type": "code",
   "execution_count": null,
   "metadata": {},
   "outputs": [],
   "source": [
    "# Define parameters for GridSearchCV\n",
    "parameters = {\n",
    "    'clf__estimator__n_estimators': [50, 100],\n",
    "    'clf__estimator__min_samples_split': [2, 4],\n",
    "#     'clf__estimator__max_features': ['auto', 'sqrt', 'log2']\n",
    "}\n",
    "\n",
    "# Do grid search\n",
    "cv = GridSearchCV(pipeline, param_grid=parameters)\n",
    "cv.fit(X_train, Y_train)"
   ]
  },
  {
   "cell_type": "markdown",
   "metadata": {},
   "source": [
    "### 7. Test your model\n",
    "Show the accuracy, precision, and recall of the tuned model.  \n",
    "\n",
    "Since this project focuses on code quality, process, and  pipelines, there is no minimum performance metric needed to pass. However, make sure to fine tune your models for accuracy, precision and recall to make your project stand out - especially for your portfolio!"
   ]
  },
  {
   "cell_type": "code",
   "execution_count": null,
   "metadata": {},
   "outputs": [],
   "source": [
    "# Test the tuned model\n",
    "Y_pred_tuned = cv.predict(X_test)\n",
    "\n",
    "# Print classification report for each category after tuning\n",
    "for i, column in enumerate(Y_test.columns):\n",
    "    print(f\"Category: {column}\")\n",
    "    print(classification_report(Y_test[column], Y_pred_tuned[:, i]))"
   ]
  },
  {
   "cell_type": "markdown",
   "metadata": {},
   "source": [
    "### 8. Try improving your model further. Here are a few ideas:\n",
    "* try other machine learning algorithms\n",
    "* add other features besides the TF-IDF"
   ]
  },
  {
   "cell_type": "code",
   "execution_count": null,
   "metadata": {},
   "outputs": [],
   "source": []
  },
  {
   "cell_type": "markdown",
   "metadata": {},
   "source": [
    "### 9. Export your model as a pickle file"
   ]
  },
  {
   "cell_type": "code",
   "execution_count": null,
   "metadata": {},
   "outputs": [],
   "source": [
    "# Export model as a pickle file\n",
    "with open('DisasterData_classifier.pkl', 'wb') as f:\n",
    "    pickle.dump(cv, f)"
   ]
  },
  {
   "cell_type": "markdown",
   "metadata": {},
   "source": [
    "### 10. Use this notebook to complete `train_classifier.py`\n",
    "Use the template file attached in the Resources folder to write a script that runs the steps above to create a database and export a model based on a new dataset specified by the user."
   ]
  },
  {
   "cell_type": "code",
   "execution_count": null,
   "metadata": {},
   "outputs": [],
   "source": []
  }
 ],
 "metadata": {
  "kernelspec": {
   "display_name": "Python 3",
   "language": "python",
   "name": "python3"
  },
  "language_info": {
   "codemirror_mode": {
    "name": "ipython",
    "version": 3
   },
   "file_extension": ".py",
   "mimetype": "text/x-python",
   "name": "python",
   "nbconvert_exporter": "python",
   "pygments_lexer": "ipython3",
   "version": "3.6.3"
  }
 },
 "nbformat": 4,
 "nbformat_minor": 2
}
